{
  "cells": [
    {
      "cell_type": "markdown",
      "metadata": {
        "id": "bJ9kOt1KqVeg"
      },
      "source": [
        "\n",
        "### **Importing madules**:"
      ]
    },
    {
      "cell_type": "code",
      "execution_count": 94,
      "metadata": {
        "colab": {
          "base_uri": "https://localhost:8080/"
        },
        "id": "Az51etpqqTaV",
        "outputId": "4e126800-e180-4583-c2bb-288843dc1a2a"
      },
      "outputs": [
        {
          "name": "stdout",
          "output_type": "stream",
          "text": [
            "Drive already mounted at /content/drive; to attempt to forcibly remount, call drive.mount(\"/content/drive\", force_remount=True).\n"
          ]
        }
      ],
      "source": [
        "import os\n",
        "import gc\n",
        "import sys\n",
        "\n",
        "from google.colab import drive\n",
        "drive.mount('/content/drive')\n",
        "\n",
        "\n",
        "from tensorflow.keras import Sequential\n",
        "from tensorflow.keras.models import Model, Sequential\n",
        "from tensorflow.keras.layers import Conv2D, MaxPooling2D, UpSampling2D, Dropout, Flatten, Dense, Reshape\n",
        "from keras.engine import sequential\n",
        "\n",
        "import pandas as pd\n",
        "from google.colab import drive\n",
        "import matplotlib.pyplot as plt\n",
        "import seaborn as sns\n",
        "from PIL import Image\n",
        "import random as rnd\n",
        "\n",
        "from sklearn.model_selection import train_test_split\n",
        "\n",
        "\n",
        "import numpy as np\n",
        "import tensorflow as tf\n",
        "import tensorflow_datasets as tfds\n",
        "from tensorflow.keras.optimizers import Adam\n",
        "from tensorflow.keras import layers\n",
        "from keras_preprocessing.image import ImageDataGenerator\n",
        "from keras.layers import Dense, Activation, Flatten, Dropout, BatchNormalization\n",
        "from keras.layers import Conv2D, MaxPooling2D, GlobalAveragePooling2D\n",
        "from keras.models import Sequential, Model\n",
        "from keras.applications.imagenet_utils import preprocess_input\n",
        "from keras.applications.vgg19 import VGG19\n",
        "from tensorflow.keras.applications import ResNet50\n",
        "from keras.applications.inception_v3 import InceptionV3\n",
        "from keras import regularizers, optimizers\n",
        "from sklearn.model_selection import train_test_split\n",
        "from keras.applications.vgg19 import preprocess_input\n",
        "import cv2\n",
        "from sklearn.model_selection import KFold\n",
        "from sklearn.model_selection import StratifiedKFold"
      ]
    },
    {
      "cell_type": "markdown",
      "metadata": {
        "id": "VqwBdUvkqdYf"
      },
      "source": [
        "### **Reading the dataset**:\n",
        "I uploaded thedataset in my google drive and mounted my drive so that I could use it here."
      ]
    },
    {
      "cell_type": "code",
      "execution_count": 95,
      "metadata": {
        "id": "COI9fBt4zVy8"
      },
      "outputs": [],
      "source": [
        "main_path = 'drive/MyDrive/Grapevine_Leaves_Image_Dataset/'\n",
        "path_Ak = main_path + 'Ak'\n",
        "path_Ala_Idris = main_path + 'Ala_Idris'\n",
        "path_Buzgulu = main_path + 'Buzgulu'\n",
        "path_Dimnit = main_path + 'Dimnit'\n",
        "path_Nazli = main_path + 'Nazli'"
      ]
    },
    {
      "cell_type": "code",
      "execution_count": 96,
      "metadata": {
        "id": "acXX_-ES0bqs"
      },
      "outputs": [],
      "source": [
        "main_df = pd.DataFrame()"
      ]
    },
    {
      "cell_type": "code",
      "execution_count": 97,
      "metadata": {
        "id": "Rl92A4G50i7C"
      },
      "outputs": [],
      "source": [
        "main_df['images'] = os.listdir(path_Ak) + os.listdir(path_Ala_Idris) + os.listdir(path_Buzgulu) + os.listdir(path_Dimnit) + os.listdir(path_Nazli)"
      ]
    },
    {
      "cell_type": "markdown",
      "metadata": {
        "id": "piL54hc2sCXj"
      },
      "source": [
        "Finding different classes using file names:"
      ]
    },
    {
      "cell_type": "code",
      "execution_count": 98,
      "metadata": {
        "id": "fSjy5U-15hgZ"
      },
      "outputs": [],
      "source": [
        "classes = []\n",
        "path = []\n",
        "for image in main_df['images']:\n",
        "    class_ = image.split(' (')[0]\n",
        "    classes.append(class_)\n",
        "    path.append(main_path+class_+'/'+image)"
      ]
    },
    {
      "cell_type": "code",
      "execution_count": 99,
      "metadata": {
        "id": "p25BvTL67x99"
      },
      "outputs": [],
      "source": [
        "main_df['classes'] = classes\n",
        "main_df['path'] = path"
      ]
    },
    {
      "cell_type": "code",
      "execution_count": 100,
      "metadata": {
        "colab": {
          "base_uri": "https://localhost:8080/",
          "height": 0
        },
        "id": "DwMxeyF37zy7",
        "outputId": "b091e8d5-cb0d-401a-a882-7e33095d0caa"
      },
      "outputs": [
        {
          "data": {
            "text/html": [
              "\n",
              "  <div id=\"df-4bb34089-e7eb-41a4-aeed-2ab54a48de77\">\n",
              "    <div class=\"colab-df-container\">\n",
              "      <div>\n",
              "<style scoped>\n",
              "    .dataframe tbody tr th:only-of-type {\n",
              "        vertical-align: middle;\n",
              "    }\n",
              "\n",
              "    .dataframe tbody tr th {\n",
              "        vertical-align: top;\n",
              "    }\n",
              "\n",
              "    .dataframe thead th {\n",
              "        text-align: right;\n",
              "    }\n",
              "</style>\n",
              "<table border=\"1\" class=\"dataframe\">\n",
              "  <thead>\n",
              "    <tr style=\"text-align: right;\">\n",
              "      <th></th>\n",
              "      <th>images</th>\n",
              "      <th>classes</th>\n",
              "      <th>path</th>\n",
              "    </tr>\n",
              "  </thead>\n",
              "  <tbody>\n",
              "    <tr>\n",
              "      <th>0</th>\n",
              "      <td>Ak (33).png</td>\n",
              "      <td>Ak</td>\n",
              "      <td>drive/MyDrive/Grapevine_Leaves_Image_Dataset/A...</td>\n",
              "    </tr>\n",
              "    <tr>\n",
              "      <th>1</th>\n",
              "      <td>Ak (1).png</td>\n",
              "      <td>Ak</td>\n",
              "      <td>drive/MyDrive/Grapevine_Leaves_Image_Dataset/A...</td>\n",
              "    </tr>\n",
              "    <tr>\n",
              "      <th>2</th>\n",
              "      <td>Ak (34).png</td>\n",
              "      <td>Ak</td>\n",
              "      <td>drive/MyDrive/Grapevine_Leaves_Image_Dataset/A...</td>\n",
              "    </tr>\n",
              "    <tr>\n",
              "      <th>3</th>\n",
              "      <td>Ak (14).png</td>\n",
              "      <td>Ak</td>\n",
              "      <td>drive/MyDrive/Grapevine_Leaves_Image_Dataset/A...</td>\n",
              "    </tr>\n",
              "    <tr>\n",
              "      <th>4</th>\n",
              "      <td>Ak (50).png</td>\n",
              "      <td>Ak</td>\n",
              "      <td>drive/MyDrive/Grapevine_Leaves_Image_Dataset/A...</td>\n",
              "    </tr>\n",
              "  </tbody>\n",
              "</table>\n",
              "</div>\n",
              "      <button class=\"colab-df-convert\" onclick=\"convertToInteractive('df-4bb34089-e7eb-41a4-aeed-2ab54a48de77')\"\n",
              "              title=\"Convert this dataframe to an interactive table.\"\n",
              "              style=\"display:none;\">\n",
              "        \n",
              "  <svg xmlns=\"http://www.w3.org/2000/svg\" height=\"24px\"viewBox=\"0 0 24 24\"\n",
              "       width=\"24px\">\n",
              "    <path d=\"M0 0h24v24H0V0z\" fill=\"none\"/>\n",
              "    <path d=\"M18.56 5.44l.94 2.06.94-2.06 2.06-.94-2.06-.94-.94-2.06-.94 2.06-2.06.94zm-11 1L8.5 8.5l.94-2.06 2.06-.94-2.06-.94L8.5 2.5l-.94 2.06-2.06.94zm10 10l.94 2.06.94-2.06 2.06-.94-2.06-.94-.94-2.06-.94 2.06-2.06.94z\"/><path d=\"M17.41 7.96l-1.37-1.37c-.4-.4-.92-.59-1.43-.59-.52 0-1.04.2-1.43.59L10.3 9.45l-7.72 7.72c-.78.78-.78 2.05 0 2.83L4 21.41c.39.39.9.59 1.41.59.51 0 1.02-.2 1.41-.59l7.78-7.78 2.81-2.81c.8-.78.8-2.07 0-2.86zM5.41 20L4 18.59l7.72-7.72 1.47 1.35L5.41 20z\"/>\n",
              "  </svg>\n",
              "      </button>\n",
              "      \n",
              "  <style>\n",
              "    .colab-df-container {\n",
              "      display:flex;\n",
              "      flex-wrap:wrap;\n",
              "      gap: 12px;\n",
              "    }\n",
              "\n",
              "    .colab-df-convert {\n",
              "      background-color: #E8F0FE;\n",
              "      border: none;\n",
              "      border-radius: 50%;\n",
              "      cursor: pointer;\n",
              "      display: none;\n",
              "      fill: #1967D2;\n",
              "      height: 32px;\n",
              "      padding: 0 0 0 0;\n",
              "      width: 32px;\n",
              "    }\n",
              "\n",
              "    .colab-df-convert:hover {\n",
              "      background-color: #E2EBFA;\n",
              "      box-shadow: 0px 1px 2px rgba(60, 64, 67, 0.3), 0px 1px 3px 1px rgba(60, 64, 67, 0.15);\n",
              "      fill: #174EA6;\n",
              "    }\n",
              "\n",
              "    [theme=dark] .colab-df-convert {\n",
              "      background-color: #3B4455;\n",
              "      fill: #D2E3FC;\n",
              "    }\n",
              "\n",
              "    [theme=dark] .colab-df-convert:hover {\n",
              "      background-color: #434B5C;\n",
              "      box-shadow: 0px 1px 3px 1px rgba(0, 0, 0, 0.15);\n",
              "      filter: drop-shadow(0px 1px 2px rgba(0, 0, 0, 0.3));\n",
              "      fill: #FFFFFF;\n",
              "    }\n",
              "  </style>\n",
              "\n",
              "      <script>\n",
              "        const buttonEl =\n",
              "          document.querySelector('#df-4bb34089-e7eb-41a4-aeed-2ab54a48de77 button.colab-df-convert');\n",
              "        buttonEl.style.display =\n",
              "          google.colab.kernel.accessAllowed ? 'block' : 'none';\n",
              "\n",
              "        async function convertToInteractive(key) {\n",
              "          const element = document.querySelector('#df-4bb34089-e7eb-41a4-aeed-2ab54a48de77');\n",
              "          const dataTable =\n",
              "            await google.colab.kernel.invokeFunction('convertToInteractive',\n",
              "                                                     [key], {});\n",
              "          if (!dataTable) return;\n",
              "\n",
              "          const docLinkHtml = 'Like what you see? Visit the ' +\n",
              "            '<a target=\"_blank\" href=https://colab.research.google.com/notebooks/data_table.ipynb>data table notebook</a>'\n",
              "            + ' to learn more about interactive tables.';\n",
              "          element.innerHTML = '';\n",
              "          dataTable['output_type'] = 'display_data';\n",
              "          await google.colab.output.renderOutput(dataTable, element);\n",
              "          const docLink = document.createElement('div');\n",
              "          docLink.innerHTML = docLinkHtml;\n",
              "          element.appendChild(docLink);\n",
              "        }\n",
              "      </script>\n",
              "    </div>\n",
              "  </div>\n",
              "  "
            ],
            "text/plain": [
              "        images classes                                               path\n",
              "0  Ak (33).png      Ak  drive/MyDrive/Grapevine_Leaves_Image_Dataset/A...\n",
              "1   Ak (1).png      Ak  drive/MyDrive/Grapevine_Leaves_Image_Dataset/A...\n",
              "2  Ak (34).png      Ak  drive/MyDrive/Grapevine_Leaves_Image_Dataset/A...\n",
              "3  Ak (14).png      Ak  drive/MyDrive/Grapevine_Leaves_Image_Dataset/A...\n",
              "4  Ak (50).png      Ak  drive/MyDrive/Grapevine_Leaves_Image_Dataset/A..."
            ]
          },
          "execution_count": 100,
          "metadata": {},
          "output_type": "execute_result"
        }
      ],
      "source": [
        "main_df.head()"
      ]
    },
    {
      "cell_type": "markdown",
      "metadata": {
        "id": "bhaZAdaery9M"
      },
      "source": [
        "Checking missing data:"
      ]
    },
    {
      "cell_type": "code",
      "execution_count": 101,
      "metadata": {
        "colab": {
          "base_uri": "https://localhost:8080/"
        },
        "id": "6NI1XMA472aI",
        "outputId": "19850f0c-ce02-4183-ee08-b6e13713624f"
      },
      "outputs": [
        {
          "data": {
            "text/plain": [
              "images     0\n",
              "classes    0\n",
              "path       0\n",
              "dtype: int64"
            ]
          },
          "execution_count": 101,
          "metadata": {},
          "output_type": "execute_result"
        }
      ],
      "source": [
        "main_df.isna().sum()"
      ]
    },
    {
      "cell_type": "markdown",
      "metadata": {
        "id": "PW2KzWIysed6"
      },
      "source": [
        "Counting the data of each class:"
      ]
    },
    {
      "cell_type": "code",
      "execution_count": 102,
      "metadata": {
        "colab": {
          "base_uri": "https://localhost:8080/"
        },
        "id": "DeUc5T1C75lf",
        "outputId": "c8a5754d-96d7-4c59-f47e-ca0e0fdaaacb"
      },
      "outputs": [
        {
          "name": "stdout",
          "output_type": "stream",
          "text": [
            "Leaves Count:  5\n"
          ]
        },
        {
          "data": {
            "text/plain": [
              "Ak           100\n",
              "Ala_Idris    100\n",
              "Buzgulu      100\n",
              "Dimnit       100\n",
              "Nazli        100\n",
              "Name: classes, dtype: int64"
            ]
          },
          "execution_count": 102,
          "metadata": {},
          "output_type": "execute_result"
        }
      ],
      "source": [
        "print('Leaves Count: ',len(main_df['classes'].value_counts()))\n",
        "main_df['classes'].value_counts()"
      ]
    },
    {
      "cell_type": "markdown",
      "metadata": {
        "id": "gkJu87yFsh0p"
      },
      "source": [
        "### **Plotting the dataset**:"
      ]
    },
    {
      "cell_type": "code",
      "execution_count": null,
      "metadata": {
        "colab": {
          "base_uri": "https://localhost:8080/",
          "height": 303
        },
        "id": "yTjK3Bfp91QY",
        "outputId": "32cb4113-9b3f-487f-8daa-f05752a49f51"
      },
      "outputs": [
        {
          "data": {
            "image/png": "[encoded data removed]",
            "text/plain": [
              "<Figure size 360x360 with 1 Axes>"
            ]
          },
          "metadata": {},
          "output_type": "display_data"
        }
      ],
      "source": [
        "plt.figure(figsize=(5,5))\n",
        "class_cnt = main_df.groupby(['classes']).size().reset_index(name = 'counts')\n",
        "colors = sns.color_palette('Paired')[0:9]\n",
        "plt.pie(class_cnt['counts'], labels=class_cnt['classes'], colors=colors, autopct='%1.1f%%')\n",
        "plt.legend(loc='upper right')\n",
        "plt.show()"
      ]
    },
    {
      "cell_type": "code",
      "execution_count": null,
      "metadata": {
        "colab": {
          "base_uri": "https://localhost:8080/",
          "height": 360
        },
        "id": "fTLEyCjpU7PN",
        "outputId": "8beb2b4d-141e-457a-e64b-8772a027e431"
      },
      "outputs": [
        {
          "name": "stdout",
          "output_type": "stream",
          "text": [
            "{'classes': ['Ak', 'Ala_Idris', 'Buzgulu', 'Dimnit', 'Nazli'], 'count': [100, 100, 100, 100, 100]}\n"
          ]
        },
        {
          "data": {
            "text/plain": [
              "Text(0.5, 0, 'classes')"
            ]
          },
          "execution_count": 88,
          "metadata": {},
          "output_type": "execute_result"
        },
        {
          "data": {
            "image/png": "[encoded data removed]",
            "text/plain": [
              "<Figure size 432x288 with 1 Axes>"
            ]
          },
          "metadata": {
            "needs_background": "light"
          },
          "output_type": "display_data"
        }
      ],
      "source": [
        "labels = ['Ak', 'Ala_Idris', 'Buzgulu', 'Dimnit', 'Nazli']\n",
        "bar = {}\n",
        "bar['classes'] = labels\n",
        "bar['count'] = [len(os.listdir(main_path+i)) for i in labels]\n",
        "print(bar)\n",
        "bar_df = pd.DataFrame(bar, index=[1,2,3,4,5])\n",
        "\n",
        "ax = sns.countplot(x=labels, data=bar_df)\n",
        "ax.set_title('Class Distribution\\n', x = 0.1, y=1, fontsize = 18);\n",
        "ax.set_xlabel(\"classes\", fontsize = 12)"
      ]
    },
    {
      "cell_type": "markdown",
      "metadata": {
        "id": "nyLBAHxgsWDY"
      },
      "source": [
        "### **Visualization**:"
      ]
    },
    {
      "cell_type": "code",
      "execution_count": null,
      "metadata": {
        "colab": {
          "base_uri": "https://localhost:8080/",
          "height": 186
        },
        "id": "mTGvKEWxseHb",
        "outputId": "ae90f8f4-9d23-44f7-c08c-0f05fd34f5e5"
      },
      "outputs": [
        {
          "data": {
            "image/png": "[encoded data removed]",
            "text/plain": [
              "<Figure size 1080x864 with 5 Axes>"
            ]
          },
          "metadata": {},
          "output_type": "display_data"
        }
      ],
      "source": [
        "plt.figure(figsize = (15,12))\n",
        "for idx,i in enumerate(main_df.classes.unique()):\n",
        "    plt.subplot(4,7,idx+1)\n",
        "    df = main_df[main_df['classes'] ==i].reset_index(drop = True)\n",
        "    image_path = df.loc[rnd.randint(0, len(df))-1,'path']\n",
        "    img = Image.open(image_path)\n",
        "    img = img.resize((224,224))\n",
        "    plt.imshow(img)\n",
        "    plt.axis('off')\n",
        "    plt.title(i)\n",
        "plt.tight_layout()\n",
        "plt.show()"
      ]
    },
    {
      "cell_type": "markdown",
      "metadata": {
        "id": "8POzmVDNDNhi"
      },
      "source": [
        "### **Splitting the data**:"
      ]
    },
    {
      "cell_type": "markdown",
      "metadata": {
        "id": "suvpi45KEQTc"
      },
      "source": [
        "\n",
        "\n",
        "\n",
        "\n",
        "Here I split the data into two parts:\n",
        "\n",
        "\n",
        "*   Labels\n",
        "*   Features\n",
        "\n"
      ]
    },
    {
      "cell_type": "code",
      "execution_count": 103,
      "metadata": {
        "id": "m9hzwqXQAsVV"
      },
      "outputs": [],
      "source": [
        "label = main_df['classes']"
      ]
    },
    {
      "cell_type": "code",
      "execution_count": 104,
      "metadata": {
        "id": "awRG5nYaDxId"
      },
      "outputs": [],
      "source": [
        "new_df =  main_df[['images','path']].copy()"
      ]
    },
    {
      "cell_type": "markdown",
      "metadata": {
        "id": "XLJN8rJYEef8"
      },
      "source": [
        "Then I split the dataset into train set and test set."
      ]
    },
    {
      "cell_type": "code",
      "execution_count": 105,
      "metadata": {
        "id": "6bC81kl_Da4O"
      },
      "outputs": [],
      "source": [
        "X_train, X_test, y_train, y_test = train_test_split(new_df, label, test_size=0.2, random_state=42)"
      ]
    },
    {
      "cell_type": "markdown",
      "metadata": {
        "id": "lfoMrWatEjUx"
      },
      "source": [
        "After seperating the test set, we have to split the train set into train and validation."
      ]
    },
    {
      "cell_type": "code",
      "execution_count": 106,
      "metadata": {
        "id": "0moMW75RSGH2"
      },
      "outputs": [],
      "source": [
        "X_train, X_val, y_train, y_val = train_test_split(X_train, y_train, test_size=0.2, random_state=42)"
      ]
    },
    {
      "cell_type": "markdown",
      "metadata": {
        "id": "x8oXdRI8E0Pg"
      },
      "source": [
        "Finding the shape of each set:"
      ]
    },
    {
      "cell_type": "code",
      "execution_count": 107,
      "metadata": {
        "colab": {
          "base_uri": "https://localhost:8080/"
        },
        "id": "FyhsMfL2TKhe",
        "outputId": "1a2a20e6-dbab-4915-a9f8-73ef9fa0aa2f"
      },
      "outputs": [
        {
          "name": "stdout",
          "output_type": "stream",
          "text": [
            "X_train shape: (320, 2)\n",
            "X_test shape: (100, 2)\n",
            "X_val shape: (80, 2)\n",
            "y_train shape: (320,)\n",
            "y_test shape: (100,)\n",
            "y val shape: (80,)\n"
          ]
        }
      ],
      "source": [
        "print(\"X_train shape: {}\".format(X_train.shape))\n",
        "print(\"X_test shape: {}\".format(X_test.shape))\n",
        "print(\"X_val shape: {}\".format(X_val.shape))\n",
        "print(\"y_train shape: {}\".format(y_train.shape))\n",
        "print(\"y_test shape: {}\".format(y_test.shape))\n",
        "print(\"y val shape: {}\".format(y_val.shape))"
      ]
    },
    {
      "cell_type": "code",
      "execution_count": 108,
      "metadata": {
        "id": "AF-mPHUZuBRZ"
      },
      "outputs": [],
      "source": [
        "train_ds = pd.concat([X_train, y_train], axis=1, join='inner')\n",
        "val_ds = pd.concat([X_val, y_val], axis=1, join='inner')\n",
        "test_ds = pd.concat([X_test, y_test], axis=1, join='inner')\n"
      ]
    },
    {
      "cell_type": "code",
      "execution_count": 109,
      "metadata": {
        "id": "lc4vaxN2Lf4j"
      },
      "outputs": [],
      "source": [
        "train_datagen = ImageDataGenerator(\n",
        "        rescale=1 / 255.0,\n",
        "        rotation_range=20,\n",
        "        zoom_range=0.05,\n",
        "        width_shift_range=0.05,\n",
        "        height_shift_range=0.05,\n",
        "        shear_range=0.05,\n",
        "        horizontal_flip=True,\n",
        "        fill_mode=\"nearest\"\n",
        "        )\n",
        "\n",
        "val_datagen = ImageDataGenerator(rescale=1 / 255.0)"
      ]
    },
    {
      "cell_type": "markdown",
      "metadata": {
        "id": "ZWJU_8RcFfL7"
      },
      "source": [
        "### **Data augmentation**:\n",
        "The performance of most deep learning models depends on the quality, quantity and relevancy of training data.\\\n",
        "Data augmentation is a set of techniques to artificially increase the amount of data by generating new data points from existing data. It is a good practice to use DA if you want to prevent overfitting, or the initial dataset is too small to train on, or even if you want to squeeze better performance from your model."
      ]
    },
    {
      "cell_type": "markdown",
      "metadata": {
        "id": "m_Dz669xtYvN"
      },
      "source": [
        "Generating new data:"
      ]
    },
    {
      "cell_type": "code",
      "execution_count": null,
      "metadata": {
        "colab": {
          "base_uri": "https://localhost:8080/"
        },
        "id": "jeLBg-TDtczb",
        "outputId": "5e3567b7-ae28-46ec-f2b2-684fa4759928"
      },
      "outputs": [
        {
          "name": "stdout",
          "output_type": "stream",
          "text": [
            "Found 320 validated image filenames belonging to 5 classes.\n",
            "Found 80 validated image filenames belonging to 5 classes.\n",
            "Found 100 validated image filenames belonging to 5 classes.\n"
          ]
        }
      ],
      "source": [
        "datagen = ImageDataGenerator(\n",
        "    width_shift_range=0.15,\n",
        "    height_shift_range=0.15,\n",
        "    rotation_range=10,\n",
        "    zoom_range=0.20,\n",
        "    brightness_range=[0.7,1.2],\n",
        "    fill_mode='nearest',\n",
        "    channel_shift_range=0.5,\n",
        "    shear_range=0.15,\n",
        "    horizontal_flip=True,\n",
        "    preprocessing_function=preprocess_input\n",
        ") \n",
        "\n",
        "test_datagen = ImageDataGenerator(\n",
        "    preprocessing_function=preprocess_input\n",
        ") \n",
        "\n",
        "train_generator= datagen.flow_from_dataframe(\n",
        "        train_ds,  # This is the source directory for training images\n",
        "        x_col='path',\n",
        "        y_col='classes',\n",
        "        target_size=(227, 227), \n",
        "        batch_size=32,\n",
        "        class_mode=\"categorical\",\n",
        "        shuffle=True,\n",
        ")\n",
        "\n",
        "val_generator = datagen.flow_from_dataframe(\n",
        "        val_ds,  # This is the source directory for training images\n",
        "        x_col='path',\n",
        "        y_col='classes',\n",
        "        target_size=(227, 227), \n",
        "        batch_size=32,\n",
        "        class_mode=\"categorical\",\n",
        "        shuffle=True,\n",
        ")\n",
        "test_generator = test_datagen.flow_from_dataframe(\n",
        "        test_ds,  # This is the source directory for training images\n",
        "        x_col='path',\n",
        "        y_col='classes',\n",
        "        target_size=(227, 227), \n",
        "        batch_size=32,\n",
        "        class_mode=\"categorical\",\n",
        "        shuffle=False,\n",
        ")"
      ]
    },
    {
      "cell_type": "markdown",
      "metadata": {
        "id": "n9Jd0VhRa0Y8"
      },
      "source": [
        "**plotting ugmented data:**"
      ]
    },
    {
      "cell_type": "code",
      "execution_count": null,
      "metadata": {
        "id": "I7NxglKYazsV"
      },
      "outputs": [],
      "source": [
        "def show_image_samples(gen ):\n",
        "    t_dict=gen.class_indices\n",
        "    classes=list(t_dict.keys())    \n",
        "    images,labels=next(gen)\n",
        "    plt.figure(figsize=(20, 20))\n",
        "    length=len(labels)\n",
        "    if length<25:\n",
        "        r=length\n",
        "    else:\n",
        "        r=25\n",
        "    for i in range(r):\n",
        "        plt.subplot(5, 5, i + 1)\n",
        "        image=images[i]/227\n",
        "        plt.imshow(image)\n",
        "        index=np.argmax(labels[i])\n",
        "        class_name=classes[index]\n",
        "        plt.title(class_name, color='blue', fontsize=16)\n",
        "        plt.axis('off')\n",
        "    plt.show()"
      ]
    },
    {
      "cell_type": "markdown",
      "metadata": {
        "id": "Gsbm7oMMxK4o"
      },
      "source": [
        "I use a callback, which helps me save the best accuracy I get."
      ]
    },
    {
      "cell_type": "code",
      "execution_count": null,
      "metadata": {
        "id": "BKg0CPIqxUd2"
      },
      "outputs": [],
      "source": [
        "cb = tf.keras.callbacks.ModelCheckpoint(\"save_model_xception.h5\", save_best_only=True)\n",
        "callbacks = [cb]"
      ]
    },
    {
      "cell_type": "markdown",
      "metadata": {
        "id": "_HBqiQBPEI0r"
      },
      "source": [
        "### **Code for confusion matrix:**"
      ]
    },
    {
      "cell_type": "code",
      "execution_count": null,
      "metadata": {
        "id": "aSLSsJQXEOK6"
      },
      "outputs": [],
      "source": [
        "from sklearn.metrics import accuracy_score, confusion_matrix, classification_report\n",
        "def confusion(model, y_act, y_predicted):\n",
        "    y_predicted = np.argmax(y_predicted, axis=1)\n",
        "    labels = (train_generator.class_indices)\n",
        "    labels = dict((v,k) for k,v in labels.items())\n",
        "    y_predicted = np.array([labels[k] for k in y_predicted])\n",
        "    print(f\"Accuracy score: {accuracy_score(y_act, y_predicted)}\")\n",
        "    print(classification_report(y_act, y_predicted))\n",
        "    mat = confusion_matrix(y_act, y_predicted)\n",
        "    sns.heatmap(mat, annot=True)"
      ]
    },
    {
      "cell_type": "markdown",
      "metadata": {
        "id": "rK6oqwE1rV_Z"
      },
      "source": [
        "### **Training models and fitting them on the data**:\n",
        "I use pre-trained models in my project. A pre-trained model is a model created by some one else to solve a similar problem. Instead of building a model from scratch to solve this problem, I used the model trained on other problem as a starting point."
      ]
    },
    {
      "cell_type": "markdown",
      "metadata": {
        "id": "YWtOeJi4v3_K"
      },
      "source": [
        "##### **VGG19**:"
      ]
    },
    {
      "cell_type": "markdown",
      "metadata": {
        "id": "xPnLy1kmjLxR"
      },
      "source": [
        "The first pre-trained model I use is **VGG 19**. VGG19 is a variant of VGG model which in short consists of 19 layers (16 convolution layers, 3 Fully connected layer, 5 MaxPool layers and 1 SoftMax layer). There are other variants of VGG like VGG11, VGG16 and others. "
      ]
    },
    {
      "cell_type": "code",
      "execution_count": null,
      "metadata": {
        "colab": {
          "base_uri": "https://localhost:8080/"
        },
        "id": "HYSFdQwQXZiW",
        "outputId": "b82ba5ca-d60f-4ca5-d87b-a0d8b6d8f8a2"
      },
      "outputs": [
        {
          "name": "stdout",
          "output_type": "stream",
          "text": [
            "Downloading data from https://storage.googleapis.com/tensorflow/keras-applications/vgg19/vgg19_weights_tf_dim_ordering_tf_kernels_notop.h5\n",
            "80142336/80134624 [==============================] - 0s 0us/step\n",
            "80150528/80134624 [==============================] - 0s 0us/step\n"
          ]
        }
      ],
      "source": [
        "vgg19 = VGG19(include_top = False, input_shape = (227,227,3), weights = 'imagenet')\n",
        "\n",
        "# training of all the convolution is set to false\n",
        "for layer in vgg19.layers:\n",
        "    layer.trainable = False\n",
        "\n",
        "x = GlobalAveragePooling2D()(vgg19.output)\n",
        "predictions = Dense(5, activation='softmax')(x)\n",
        "\n",
        "model_vgg = Model(inputs = vgg19.input, outputs = predictions)"
      ]
    },
    {
      "cell_type": "markdown",
      "metadata": {
        "id": "GmcO1gQ5ty7N"
      },
      "source": [
        "Compiling the model:"
      ]
    },
    {
      "cell_type": "code",
      "execution_count": null,
      "metadata": {
        "id": "zChXS3-wYMU_"
      },
      "outputs": [],
      "source": [
        "model_vgg.compile(loss='categorical_crossentropy', optimizer=\"adam\", metrics=['accuracy'])"
      ]
    },
    {
      "cell_type": "markdown",
      "metadata": {
        "id": "Fg3rxnI-tuC-"
      },
      "source": [
        "Fitting it on the train set:"
      ]
    },
    {
      "cell_type": "code",
      "execution_count": null,
      "metadata": {
        "colab": {
          "base_uri": "https://localhost:8080/"
        },
        "id": "6HTkGTtpYRt9",
        "outputId": "4fcf4d40-9ee4-4ba5-e42e-2761c97eda42"
      },
      "outputs": [],
      "source": [
        "history_vgg = model_vgg.fit(\n",
        "      train_generator,\n",
        "      validation_data=val_generator,\n",
        "      epochs=40,\n",
        "      verbose=2,\n",
        "      callbacks = callbacks)"
      ]
    },
    {
      "cell_type": "markdown",
      "metadata": {
        "id": "4qLdvOpwtQSV"
      },
      "source": [
        "Predicting the test set using the model we trained:"
      ]
    },
    {
      "cell_type": "code",
      "execution_count": null,
      "metadata": {
        "colab": {
          "base_uri": "https://localhost:8080/"
        },
        "id": "6NsIxIMpykp0",
        "outputId": "59323ec6-7098-4566-96f9-b5e940f1ceb1"
      },
      "outputs": [
        {
          "name": "stdout",
          "output_type": "stream",
          "text": [
            "4/4 [==============================] - 23s 7s/step - loss: 0.5508 - accuracy: 0.7800\n"
          ]
        }
      ],
      "source": [
        "pred = model_vgg.evaluate(test_generator)"
      ]
    },
    {
      "cell_type": "markdown",
      "metadata": {
        "id": "nCBfQdob1hz_"
      },
      "source": [
        "| epoch | val accuracy | test accuracy |\n",
        "| --- | --- | --- |\n",
        "| 10 | 52.5 | 56.0 |\n",
        "| 30 | 77.7 | 79.0 |\n",
        "| 50 | 82.5 | 79.0 |\n",
        "| 40 | 72.5 | 78.0 |\n",
        "\n"
      ]
    },
    {
      "cell_type": "markdown",
      "metadata": {
        "id": "ckvOoSqd7Sc3"
      },
      "source": [
        "As you can see, after spending 20 more epochs the accuracy if the test set did not change. So increasing the umber of epochs wouldn't help anymore."
      ]
    },
    {
      "cell_type": "code",
      "execution_count": null,
      "metadata": {
        "colab": {
          "base_uri": "https://localhost:8080/",
          "height": 302
        },
        "id": "xYQnx9WsE3bP",
        "outputId": "35466afc-fd5b-4cf7-a8de-23b669062b4a"
      },
      "outputs": [
        {
          "data": {
            "image/png": "[encoded data removed]",
            "text/plain": [
              "<Figure size 432x288 with 1 Axes>"
            ]
          },
          "metadata": {},
          "output_type": "display_data"
        },
        {
          "data": {
            "text/plain": [
              "<Figure size 432x288 with 0 Axes>"
            ]
          },
          "metadata": {},
          "output_type": "display_data"
        }
      ],
      "source": [
        "acc = history_vgg.history['accuracy']\n",
        "val_acc = history_vgg.history['val_accuracy']\n",
        "\n",
        "epochs = range(len(acc))\n",
        "\n",
        "plt.plot(epochs, acc, 'r', label='Training accuracy')\n",
        "plt.plot(epochs, val_acc, 'b', label='Validation accuracy')\n",
        "plt.title('Training and validation accuracy')\n",
        "plt.legend(loc=0)\n",
        "plt.figure()\n",
        "\n",
        "plt.show()"
      ]
    },
    {
      "cell_type": "code",
      "execution_count": null,
      "metadata": {
        "colab": {
          "base_uri": "https://localhost:8080/",
          "height": 302
        },
        "id": "vwXxujKxE-b_",
        "outputId": "361060bf-9ae3-4767-a917-1d7277f633b7"
      },
      "outputs": [
        {
          "data": {
            "image/png": "[encoded data removed]",
            "text/plain": [
              "<Figure size 432x288 with 1 Axes>"
            ]
          },
          "metadata": {},
          "output_type": "display_data"
        },
        {
          "data": {
            "text/plain": [
              "<Figure size 432x288 with 0 Axes>"
            ]
          },
          "metadata": {},
          "output_type": "display_data"
        }
      ],
      "source": [
        "loss = history_vgg.history['loss']\n",
        "val_loss = history_vgg.history['val_loss']\n",
        "\n",
        "epochs = range(len(loss))\n",
        "\n",
        "plt.plot(epochs, loss, 'r', label='Training loss')\n",
        "plt.plot(epochs, val_loss, 'b', label='Validation loss')\n",
        "plt.title('Training and validation loss')\n",
        "plt.legend(loc=0)\n",
        "plt.figure()\n",
        "\n",
        "plt.show()"
      ]
    },
    {
      "cell_type": "markdown",
      "metadata": {
        "id": "6SkesaAeEBbm"
      },
      "source": [
        "**Confusion matrix:**"
      ]
    },
    {
      "cell_type": "code",
      "execution_count": null,
      "metadata": {
        "colab": {
          "base_uri": "https://localhost:8080/",
          "height": 505
        },
        "id": "_1PYdxrPEHH7",
        "outputId": "b6af40ef-33b3-4ade-8974-7448c67e6db5"
      },
      "outputs": [
        {
          "name": "stdout",
          "output_type": "stream",
          "text": [
            "Accuracy score: 0.78\n",
            "              precision    recall  f1-score   support\n",
            "\n",
            "          Ak       1.00      0.57      0.73        28\n",
            "   Ala_Idris       0.73      0.79      0.76        14\n",
            "     Buzgulu       0.43      0.90      0.58        10\n",
            "      Dimnit       0.79      0.92      0.85        24\n",
            "       Nazli       1.00      0.83      0.91        24\n",
            "\n",
            "    accuracy                           0.78       100\n",
            "   macro avg       0.79      0.80      0.76       100\n",
            "weighted avg       0.85      0.78      0.79       100\n",
            "\n"
          ]
        },
        {
          "data": {
            "image/png": "[encoded data removed]",
            "text/plain": [
              "<Figure size 432x288 with 2 Axes>"
            ]
          },
          "metadata": {},
          "output_type": "display_data"
        }
      ],
      "source": [
        "y_predict = model_vgg.predict(test_generator)\n",
        "confusion(model_vgg, np.array(test_ds['classes']), y_predict)"
      ]
    },
    {
      "cell_type": "markdown",
      "metadata": {
        "id": "oM-OKNqngtPx"
      },
      "source": [
        "**10 fold cross validation:**\\\n",
        "It took me so much to train the model once, so training it 10 times was impossible so that I changed epoch number to 20."
      ]
    },
    {
      "cell_type": "code",
      "execution_count": null,
      "metadata": {
        "colab": {
          "base_uri": "https://localhost:8080/"
        },
        "id": "Q1oB3C11FDPB",
        "outputId": "03a6a71b-2b7f-4552-a8be-91510e5c0b3f"
      },
      "outputs": [],
      "source": [
        "from sklearn.model_selection import KFold\n",
        "from sklearn.model_selection import StratifiedKFold\n",
        "\n",
        "kf = KFold(n_splits = 10)\n",
        "kfold = StratifiedKFold(n_splits=10,shuffle=True,random_state=42)\n",
        "\n",
        "X_train, X_test, y_train, y_test = train_test_split(main_df[['path', 'classes']], main_df[['classes']], test_size=0.2, random_state=42)\n",
        "\n",
        "\n",
        "Y = y_train\n",
        "\n",
        "test_generator_vgg = test_datagen.flow_from_dataframe(\n",
        "        test_ds,  # This is the source directory for training images\n",
        "        x_col='path',\n",
        "        y_col='classes',\n",
        "        target_size=(227, 227), \n",
        "        batch_size=32,\n",
        "        class_mode=\"categorical\",\n",
        "        shuffle=True,\n",
        ")\n",
        "\n",
        "\n",
        "for train_index, val_index in kf.split(np.zeros(400),Y):\n",
        "  training_data = X_train.iloc[train_index]\n",
        "  validation_data = X_train.iloc[val_index]\n",
        "\n",
        "  train_generator_vgg= datagen.flow_from_dataframe(\n",
        "          training_data,  # This is the source directory for training images\n",
        "          x_col='path',\n",
        "          y_col='classes',\n",
        "          target_size=(227, 227), \n",
        "          batch_size=32,\n",
        "          class_mode=\"categorical\",\n",
        "          shuffle=True,\n",
        "  )\n",
        "\n",
        "  val_generator_vgg = datagen.flow_from_dataframe(\n",
        "          validation_data,  # This is the source directory for training images\n",
        "          x_col='path',\n",
        "          y_col='classes',\n",
        "          target_size=(227, 227), \n",
        "          batch_size=32,\n",
        "          class_mode=\"categorical\",\n",
        "          shuffle=True,\n",
        "  )\n",
        "\n",
        "  history_vgg = model_vgg.fit(\n",
        "      train_generator_vgg,\n",
        "      validation_data=val_generator,\n",
        "      epochs=20,\n",
        "      verbose=2,\n",
        "      callbacks = callbacks)\n",
        "  pred = model_vgg.evaluate(val_generator_vgg)\n",
        "  pred_test =  model_vgg.evaluate(test_generator_vgg)\n",
        "\n"
      ]
    },
    {
      "cell_type": "markdown",
      "metadata": {
        "id": "J1YKKSoZ82IB"
      },
      "source": [
        "| Fold  Number | val accuracy | test accuracy |\n",
        "| --- | --- | --- |\n",
        "| 1 | 85 | 75 |\n",
        "| 2 | 89 | 75 |\n",
        "| 3 | 92 | 75.9 |\n",
        "| 4 | 97 | 82 |\n",
        "| 5 | 85 | 76.9 |\n",
        "| 6 | 92.5 | 76.9 |\n",
        "| 7 | 97.5 | 77.9 |\n",
        "| 8 | 89.9 | 75.9 |\n",
        "| 9 | 92.5 | 79.0 |\n",
        "| 10 | 92.5 | 77.9 |\n",
        "\n"
      ]
    },
    {
      "cell_type": "markdown",
      "metadata": {
        "id": "f5bC2JuIjFp6"
      },
      "source": [
        "##### **ResNet50**:\n",
        "ResNet50 is a variant of ResNet model which has 48 Convolution layers along with 1 MaxPool and 1 Average Pool layer."
      ]
    },
    {
      "cell_type": "code",
      "execution_count": null,
      "metadata": {
        "colab": {
          "base_uri": "https://localhost:8080/"
        },
        "id": "J6Jue6hPYcY2",
        "outputId": "f5a69180-f326-4ee8-d057-c4a7d77bf899"
      },
      "outputs": [
        {
          "name": "stdout",
          "output_type": "stream",
          "text": [
            "Downloading data from https://storage.googleapis.com/tensorflow/keras-applications/resnet/resnet50_weights_tf_dim_ordering_tf_kernels_notop.h5\n",
            "94773248/94765736 [==============================] - 0s 0us/step\n",
            "94781440/94765736 [==============================] - 0s 0us/step\n"
          ]
        }
      ],
      "source": [
        "resnet50 = ResNet50(include_top = False, input_shape = (227,227,3), weights = 'imagenet')\n",
        "\n",
        "# training of all the convolution is set to false\n",
        "for layer in resnet50.layers:\n",
        "    layer.trainable = False\n",
        "\n",
        "x = GlobalAveragePooling2D()(resnet50.output)\n",
        "predictions = Dense(5, activation='softmax')(x)\n",
        "\n",
        "model_resnet50 = Model(inputs = resnet50.input, outputs = predictions)"
      ]
    },
    {
      "cell_type": "markdown",
      "metadata": {
        "id": "89niCRNU27YQ"
      },
      "source": [
        "Compiling the model:"
      ]
    },
    {
      "cell_type": "code",
      "execution_count": null,
      "metadata": {
        "id": "5cz5FVh9jC9P"
      },
      "outputs": [],
      "source": [
        "optimizer = tf.keras.optimizers.Adam(learning_rate=0.01)\n",
        "model_resnet50.compile(loss='categorical_crossentropy', optimizer=optimizer, metrics=['accuracy'])"
      ]
    },
    {
      "cell_type": "markdown",
      "metadata": {
        "id": "K-CqxUaR29-L"
      },
      "source": [
        "Fitting the model:"
      ]
    },
    {
      "cell_type": "code",
      "execution_count": null,
      "metadata": {
        "colab": {
          "base_uri": "https://localhost:8080/"
        },
        "id": "0XeLWoXrjWiT",
        "outputId": "acf74b67-2f6a-428f-bdf5-9ba160c963f6"
      },
      "outputs": [],
      "source": [
        "history_resnet50 = model_resnet50.fit(\n",
        "      train_generator,\n",
        "      validation_data=val_generator,\n",
        "      epochs=50,\n",
        "      verbose=2,\n",
        "      callbacks = callbacks)"
      ]
    },
    {
      "cell_type": "markdown",
      "metadata": {
        "id": "XHCimdy03BT1"
      },
      "source": [
        "Predicting test data:"
      ]
    },
    {
      "cell_type": "code",
      "execution_count": null,
      "metadata": {
        "colab": {
          "base_uri": "https://localhost:8080/"
        },
        "id": "XCjKGzRyzwAQ",
        "outputId": "ac0f0873-bf87-4fd9-fd8c-4733f816b263"
      },
      "outputs": [
        {
          "name": "stdout",
          "output_type": "stream",
          "text": [
            "4/4 [==============================] - 1s 300ms/step - loss: 1.0294 - accuracy: 0.6800\n"
          ]
        }
      ],
      "source": [
        "pred = model_resnet50.evaluate(test_generator)"
      ]
    },
    {
      "cell_type": "markdown",
      "metadata": {
        "id": "RaxWUMx4_6oZ"
      },
      "source": [
        "| epoch |learning rate | val accuracy | test accuracy |\n",
        "| --- | --- | --- | ---|\n",
        "| 10 | 0.001 | 83.7 | 81.0 |\n",
        "| 10 | 0.01 | 73.75 | 82.0 |\n",
        "| 10 | 0.1 | 77.75 | 64.0 |\n",
        "| 50 | 0.001 | 76.2 | 81.0 |\n",
        "| 50 | 0.01 | 73.7 | 68.0 |"
      ]
    },
    {
      "cell_type": "markdown",
      "metadata": {
        "id": "61PbFa_nB21O"
      },
      "source": [
        "I changed the learning rate and epoch number. This pre-trained model couldn't get any accuracy more than 82. It was taking so much time to train and it had small improvements."
      ]
    },
    {
      "cell_type": "code",
      "execution_count": null,
      "metadata": {
        "colab": {
          "base_uri": "https://localhost:8080/",
          "height": 302
        },
        "id": "LqhP49FzEdX2",
        "outputId": "46c4d195-dd57-4b74-e763-0c1c03b759a9"
      },
      "outputs": [
        {
          "data": {
            "image/png": "[encoded data removed]",
            "text/plain": [
              "<Figure size 432x288 with 1 Axes>"
            ]
          },
          "metadata": {},
          "output_type": "display_data"
        },
        {
          "data": {
            "text/plain": [
              "<Figure size 432x288 with 0 Axes>"
            ]
          },
          "metadata": {},
          "output_type": "display_data"
        }
      ],
      "source": [
        "acc = history_resnet50.history['accuracy']\n",
        "val_acc = history_resnet50.history['val_accuracy']\n",
        "\n",
        "epochs = range(len(acc))\n",
        "\n",
        "plt.plot(epochs, acc, 'r', label='Training accuracy')\n",
        "plt.plot(epochs, val_acc, 'b', label='Validation accuracy')\n",
        "plt.title('Training and validation accuracy')\n",
        "plt.legend(loc=0)\n",
        "plt.figure()\n",
        "\n",
        "plt.show()"
      ]
    },
    {
      "cell_type": "code",
      "execution_count": null,
      "metadata": {
        "colab": {
          "base_uri": "https://localhost:8080/",
          "height": 302
        },
        "id": "Nr-GcdctErhd",
        "outputId": "8dcedcdc-fb2a-4b64-9076-22beee53bd35"
      },
      "outputs": [
        {
          "data": {
            "image/png": "[encoded data removed]",
            "text/plain": [
              "<Figure size 432x288 with 1 Axes>"
            ]
          },
          "metadata": {},
          "output_type": "display_data"
        },
        {
          "data": {
            "text/plain": [
              "<Figure size 432x288 with 0 Axes>"
            ]
          },
          "metadata": {},
          "output_type": "display_data"
        }
      ],
      "source": [
        "loss = history_resnet50.history['loss']\n",
        "val_loss = history_resnet50.history['val_loss']\n",
        "\n",
        "epochs = range(len(loss))\n",
        "\n",
        "plt.plot(epochs, loss, 'r', label='Training loss')\n",
        "plt.plot(epochs, val_loss, 'b', label='Validation loss')\n",
        "plt.title('Training and validation loss')\n",
        "plt.legend(loc=0)\n",
        "plt.figure()\n",
        "\n",
        "plt.show()"
      ]
    },
    {
      "cell_type": "markdown",
      "metadata": {
        "id": "ns0ARlhFJ0ij"
      },
      "source": [
        "**confusion matrix:**"
      ]
    },
    {
      "cell_type": "code",
      "execution_count": null,
      "metadata": {
        "colab": {
          "base_uri": "https://localhost:8080/",
          "height": 509
        },
        "id": "KZUcnjw6J2s1",
        "outputId": "efd72813-1ccb-4cae-8d9b-b31f03122af2"
      },
      "outputs": [
        {
          "name": "stdout",
          "output_type": "stream",
          "text": [
            "Accuracy score: 0.68\n",
            "              precision    recall  f1-score   support\n",
            "\n",
            "          Ak       1.00      0.39      0.56        28\n",
            "   Ala_Idris       0.42      1.00      0.60        14\n",
            "     Buzgulu       0.47      0.80      0.59        10\n",
            "      Dimnit       0.88      0.62      0.73        24\n",
            "       Nazli       0.91      0.83      0.87        24\n",
            "\n",
            "    accuracy                           0.68       100\n",
            "   macro avg       0.74      0.73      0.67       100\n",
            "weighted avg       0.82      0.68      0.68       100\n",
            "\n"
          ]
        },
        {
          "data": {
            "image/png": "[encoded data removed]",
            "text/plain": [
              "<Figure size 432x288 with 2 Axes>"
            ]
          },
          "metadata": {},
          "output_type": "display_data"
        }
      ],
      "source": [
        "y_predict = model_resnet50.predict(test_generator)\n",
        "confusion(model_resnet50, np.array(test_ds['classes']), y_predict)"
      ]
    },
    {
      "cell_type": "markdown",
      "metadata": {
        "id": "-GM-Nhl9J9HJ"
      },
      "source": [
        "**10 fold cross validation:**\\\n",
        "It took me so much to train the model once, so training it 10 times was impossible so that I changed epoch number to 25."
      ]
    },
    {
      "cell_type": "code",
      "execution_count": null,
      "metadata": {
        "colab": {
          "base_uri": "https://localhost:8080/"
        },
        "id": "RgqBhBVTKAHg",
        "outputId": "14aa3674-1c28-427d-ee09-c4c78668cf7f"
      },
      "outputs": [],
      "source": [
        "kf = KFold(n_splits = 10)\n",
        "kfold = StratifiedKFold(n_splits=10,shuffle=True,random_state=42)\n",
        "\n",
        "X_train, X_test, y_train, y_test = train_test_split(main_df[['path', 'classes']], main_df[['classes']], test_size=0.2, random_state=42)\n",
        "\n",
        "\n",
        "Y = y_train\n",
        "\n",
        "test_generator_resnet = test_datagen.flow_from_dataframe(\n",
        "        test_ds,  # This is the source directory for training images\n",
        "        x_col='path',\n",
        "        y_col='classes',\n",
        "        target_size=(227, 227), \n",
        "        batch_size=32,\n",
        "        class_mode=\"categorical\",\n",
        "        shuffle=False,\n",
        ")\n",
        "\n",
        "\n",
        "for train_index, val_index in kf.split(np.zeros(400),Y):\n",
        "  training_data = X_train.iloc[train_index]\n",
        "  validation_data = X_train.iloc[val_index]\n",
        "\n",
        "  train_generator_resnet= datagen.flow_from_dataframe(\n",
        "          training_data,  # This is the source directory for training images\n",
        "          x_col='path',\n",
        "          y_col='classes',\n",
        "          target_size=(227, 227), \n",
        "          batch_size=32,\n",
        "          class_mode=\"categorical\",\n",
        "          shuffle=True,\n",
        "  )\n",
        "\n",
        "  val_generator_resnet = datagen.flow_from_dataframe(\n",
        "          validation_data,  # This is the source directory for training images\n",
        "          x_col='path',\n",
        "          y_col='classes',\n",
        "          target_size=(227, 227), \n",
        "          batch_size=32,\n",
        "          class_mode=\"categorical\",\n",
        "          shuffle=True,\n",
        "  )\n",
        "\n",
        "  history_resnet50 = model_resnet50.fit(\n",
        "        train_generator,\n",
        "        validation_data=val_generator,\n",
        "        epochs=25,\n",
        "        verbose=2,\n",
        "        callbacks = callbacks)\n",
        "  \n",
        "  pred = model_resnet50.evaluate(val_generator_resnet)\n",
        "  pred_test =  model_resnet50.evaluate(test_generator_resnet)\n",
        "\n"
      ]
    },
    {
      "cell_type": "markdown",
      "metadata": {
        "id": "DruQTWJf97A-"
      },
      "source": [
        "|  Fold Number | val accuracy | test accuracy |\n",
        "| --- | --- | --- |\n",
        "| 1 | 85 | 85 |\n",
        "| 2 | 77 | 72 |\n",
        "| 3 | 92.5 | 82.9 |\n",
        "| 4 | 97.5 | 87.9 |\n",
        "| 5 | 87.5 | 77.9 |\n",
        "| 6 | 82.4 | 74.0 |\n",
        "| 7 | 94.9 | 73.0 |\n",
        "| 8 | 94.9 | 77.9 |\n",
        "| 9 | 97.5 | 85.0 |\n",
        "| 10 | 89.9 | 82.9 |\n",
        "\n"
      ]
    },
    {
      "cell_type": "markdown",
      "metadata": {
        "id": "bHwYrd9x6d2j"
      },
      "source": [
        "#### **Inception-V3**:\n",
        "Inception-v3 is a convolutional neural network architecture from the Inception family that makes several improvements including using Label Smoothing, Factorized 7 x 7 convolutions, and the use of an auxiliary classifer to propagate label information lower down the network."
      ]
    },
    {
      "cell_type": "code",
      "execution_count": null,
      "metadata": {
        "colab": {
          "base_uri": "https://localhost:8080/"
        },
        "id": "TStKCAEYyonn",
        "outputId": "42969e07-845c-4461-9407-32496f456c13"
      },
      "outputs": [
        {
          "name": "stdout",
          "output_type": "stream",
          "text": [
            "Downloading data from https://storage.googleapis.com/tensorflow/keras-applications/inception_v3/inception_v3_weights_tf_dim_ordering_tf_kernels_notop.h5\n",
            "87916544/87910968 [==============================] - 0s 0us/step\n",
            "87924736/87910968 [==============================] - 0s 0us/step\n"
          ]
        }
      ],
      "source": [
        "InceptionV3_model = tf.keras.applications.InceptionV3(weights='imagenet', include_top=False, input_shape=(227, 227, 3))"
      ]
    },
    {
      "cell_type": "markdown",
      "metadata": {
        "id": "62w6xhiw6svG"
      },
      "source": [
        "Adding some changes to the model:"
      ]
    },
    {
      "cell_type": "code",
      "execution_count": null,
      "metadata": {
        "colab": {
          "base_uri": "https://localhost:8080/"
        },
        "id": "XQx2vk4XX7vY",
        "outputId": "9a534a90-711e-4208-8fab-e80fb4b2a6af"
      },
      "outputs": [],
      "source": [
        "x = InceptionV3_model.output\n",
        "x = layers.GlobalAveragePooling2D()(x)\n",
        "x = layers.Flatten()(x)\n",
        "x = layers.Dense(units=512, activation='relu')(x)\n",
        "x = layers.Dropout(0.3)(x)\n",
        "x = layers.Dense(units=512, activation='relu')(x)\n",
        "x = layers.Dropout(0.3)(x)\n",
        "output  = layers.Dense(units=5, activation='softmax')(x)\n",
        "model_inception = Model(InceptionV3_model.input, output)"
      ]
    },
    {
      "cell_type": "markdown",
      "metadata": {
        "id": "jjZfpdvv692C"
      },
      "source": [
        "Compiling the model:"
      ]
    },
    {
      "cell_type": "code",
      "execution_count": null,
      "metadata": {
        "id": "JpY5sbgkYhra"
      },
      "outputs": [],
      "source": [
        "optimizer = tf.keras.optimizers.Adam(learning_rate=0.001)\n",
        "model_inception.compile(optimizer=optimizer, loss=\"categorical_crossentropy\", metrics=[\"accuracy\"])"
      ]
    },
    {
      "cell_type": "markdown",
      "metadata": {
        "id": "MtyIvHlH7caW"
      },
      "source": [
        "Fitting the model on the train data:"
      ]
    },
    {
      "cell_type": "code",
      "execution_count": null,
      "metadata": {
        "colab": {
          "base_uri": "https://localhost:8080/"
        },
        "id": "og4SsHDCYk4V",
        "outputId": "59501c01-4cfa-48a2-e642-49a0da7fb3d3"
      },
      "outputs": [],
      "source": [
        "history = model_inception.fit(train_generator, \n",
        "                    steps_per_epoch=4, \n",
        "                    epochs=40, \n",
        "                    validation_data=val_generator, \n",
        "                    validation_steps=2, \n",
        "                    callbacks = callbacks)"
      ]
    },
    {
      "cell_type": "markdown",
      "metadata": {
        "id": "sPEgGi4E7g3S"
      },
      "source": [
        "Testing the model on the test set:"
      ]
    },
    {
      "cell_type": "code",
      "execution_count": null,
      "metadata": {
        "colab": {
          "base_uri": "https://localhost:8080/"
        },
        "id": "iMrVkBYi7lRO",
        "outputId": "3ecb4ec9-d77c-4692-d797-20dc4137b313"
      },
      "outputs": [
        {
          "name": "stdout",
          "output_type": "stream",
          "text": [
            "4/4 [==============================] - 14s 5s/step - loss: 17.0465 - accuracy: 0.2700\n"
          ]
        }
      ],
      "source": [
        "pred = model_inception.evaluate(test_generator)"
      ]
    },
    {
      "cell_type": "markdown",
      "metadata": {
        "id": "CPK869flFm6s"
      },
      "source": [
        "| epoch |learning rate | val accuracy | test accuracy |\n",
        "| --- | --- | --- | ---|\n",
        "| 10 | 0.001 | 21.8 | 22.0 |\n",
        "| 10 | 0.01 | 32.8 | 10.0 |\n",
        "| 40 | 0.001 | 26.69 | 27.0 |"
      ]
    },
    {
      "cell_type": "markdown",
      "metadata": {
        "id": "efY-yPm8GYF3"
      },
      "source": [
        "As you can see, with learning rate of 0.01 and epoch No. 10, the model overfitted.\\\n",
        "As It is obvious from the results, this model is not good for this dataset."
      ]
    },
    {
      "cell_type": "code",
      "execution_count": null,
      "metadata": {
        "colab": {
          "base_uri": "https://localhost:8080/",
          "height": 299
        },
        "id": "7Z9y4gTvHeJE",
        "outputId": "f16fb0a1-8266-4310-83cb-518d1f4e6a54"
      },
      "outputs": [
        {
          "data": {
            "image/png": "[encoded data removed]",
            "text/plain": [
              "<Figure size 432x288 with 1 Axes>"
            ]
          },
          "metadata": {
            "needs_background": "light"
          },
          "output_type": "display_data"
        },
        {
          "data": {
            "text/plain": [
              "<Figure size 432x288 with 0 Axes>"
            ]
          },
          "metadata": {},
          "output_type": "display_data"
        }
      ],
      "source": [
        "acc = history.history['accuracy']\n",
        "val_acc = history.history['val_accuracy']\n",
        "\n",
        "epochs = range(len(acc))\n",
        "\n",
        "plt.plot(epochs, acc, 'r', label='Training accuracy')\n",
        "plt.plot(epochs, val_acc, 'b', label='Validation accuracy')\n",
        "plt.title('Training and validation accuracy')\n",
        "plt.legend(loc=0)\n",
        "plt.figure()\n",
        "\n",
        "plt.show()"
      ]
    },
    {
      "cell_type": "code",
      "execution_count": null,
      "metadata": {
        "colab": {
          "base_uri": "https://localhost:8080/",
          "height": 299
        },
        "id": "F7UMU_vAHetH",
        "outputId": "7f1a2e21-7210-49b0-f325-ce18a5870afa"
      },
      "outputs": [
        {
          "data": {
            "image/png": "[encoded data removed]",
            "text/plain": [
              "<Figure size 432x288 with 1 Axes>"
            ]
          },
          "metadata": {
            "needs_background": "light"
          },
          "output_type": "display_data"
        },
        {
          "data": {
            "text/plain": [
              "<Figure size 432x288 with 0 Axes>"
            ]
          },
          "metadata": {},
          "output_type": "display_data"
        }
      ],
      "source": [
        "loss = history.history['loss']\n",
        "val_loss = history.history['val_loss']\n",
        "\n",
        "epochs = range(len(loss))\n",
        "\n",
        "plt.plot(epochs, loss, 'r', label='Training loss')\n",
        "plt.plot(epochs, val_loss, 'b', label='Validation loss')\n",
        "plt.title('Training and validation loss')\n",
        "plt.legend(loc=0)\n",
        "plt.figure()\n",
        "\n",
        "plt.show()"
      ]
    },
    {
      "cell_type": "markdown",
      "metadata": {
        "id": "I39Kr1rHKv5r"
      },
      "source": [
        "**Confusion matrix:**"
      ]
    },
    {
      "cell_type": "code",
      "execution_count": null,
      "metadata": {
        "colab": {
          "base_uri": "https://localhost:8080/",
          "height": 631
        },
        "id": "OhDMnzcRKyvt",
        "outputId": "17669914-ca14-4d33-a7eb-9647f87b6aaf"
      },
      "outputs": [
        {
          "name": "stdout",
          "output_type": "stream",
          "text": [
            "Accuracy score: 0.27\n",
            "              precision    recall  f1-score   support\n",
            "\n",
            "          Ak       0.00      0.00      0.00        28\n",
            "   Ala_Idris       0.75      0.21      0.33        14\n",
            "     Buzgulu       0.00      0.00      0.00        10\n",
            "      Dimnit       0.00      0.00      0.00        24\n",
            "       Nazli       0.25      1.00      0.40        24\n",
            "\n",
            "    accuracy                           0.27       100\n",
            "   macro avg       0.20      0.24      0.15       100\n",
            "weighted avg       0.17      0.27      0.14       100\n",
            "\n"
          ]
        },
        {
          "name": "stderr",
          "output_type": "stream",
          "text": [
            "/usr/local/lib/python3.7/dist-packages/sklearn/metrics/_classification.py:1318: UndefinedMetricWarning: Precision and F-score are ill-defined and being set to 0.0 in labels with no predicted samples. Use `zero_division` parameter to control this behavior.\n",
            "  _warn_prf(average, modifier, msg_start, len(result))\n",
            "/usr/local/lib/python3.7/dist-packages/sklearn/metrics/_classification.py:1318: UndefinedMetricWarning: Precision and F-score are ill-defined and being set to 0.0 in labels with no predicted samples. Use `zero_division` parameter to control this behavior.\n",
            "  _warn_prf(average, modifier, msg_start, len(result))\n",
            "/usr/local/lib/python3.7/dist-packages/sklearn/metrics/_classification.py:1318: UndefinedMetricWarning: Precision and F-score are ill-defined and being set to 0.0 in labels with no predicted samples. Use `zero_division` parameter to control this behavior.\n",
            "  _warn_prf(average, modifier, msg_start, len(result))\n"
          ]
        },
        {
          "data": {
            "image/png": "[encoded data removed]",
            "text/plain": [
              "<Figure size 432x288 with 2 Axes>"
            ]
          },
          "metadata": {
            "needs_background": "light"
          },
          "output_type": "display_data"
        }
      ],
      "source": [
        "y_predict = model_inception.predict(test_generator)\n",
        "confusion(model_inception, np.array(test_ds['classes']), y_predict)"
      ]
    },
    {
      "cell_type": "markdown",
      "metadata": {
        "id": "VWf3gK6MKy8H"
      },
      "source": [
        "**10 fold cross validation:**\\\n",
        "It took me so much to train the model once, so training it 10 times was impossible so that I changed epoch number to 20."
      ]
    },
    {
      "cell_type": "code",
      "execution_count": null,
      "metadata": {
        "colab": {
          "base_uri": "https://localhost:8080/"
        },
        "id": "ecmupAG7K1aq",
        "outputId": "35fd73f9-488b-4469-8d38-435cc8beb440"
      },
      "outputs": [],
      "source": [
        "kf = KFold(n_splits = 10)\n",
        "kfold = StratifiedKFold(n_splits=10,shuffle=True,random_state=42)\n",
        "\n",
        "X_train, X_test, y_train, y_test = train_test_split(main_df[['path', 'classes']], main_df[['classes']], test_size=0.2, random_state=42)\n",
        "\n",
        "\n",
        "Y = y_train\n",
        "\n",
        "test_generator_inception = test_datagen.flow_from_dataframe(\n",
        "        test_ds,  # This is the source directory for training images\n",
        "        x_col='path',\n",
        "        y_col='classes',\n",
        "        target_size=(227, 227), \n",
        "        batch_size=32,\n",
        "        class_mode=\"categorical\",\n",
        "        shuffle=False,\n",
        ")\n",
        "\n",
        "\n",
        "for train_index, val_index in kf.split(np.zeros(400),Y):\n",
        "  training_data = X_train.iloc[train_index]\n",
        "  validation_data = X_train.iloc[val_index]\n",
        "\n",
        "  train_generator_inception= datagen.flow_from_dataframe(\n",
        "          training_data,  # This is the source directory for training images\n",
        "          x_col='path',\n",
        "          y_col='classes',\n",
        "          target_size=(227, 227), \n",
        "          batch_size=32,\n",
        "          class_mode=\"categorical\",\n",
        "          shuffle=True,\n",
        "  )\n",
        "\n",
        "  val_generator_inception = datagen.flow_from_dataframe(\n",
        "          validation_data,  # This is the source directory for training images\n",
        "          x_col='path',\n",
        "          y_col='classes',\n",
        "          target_size=(227, 227), \n",
        "          batch_size=32,\n",
        "          class_mode=\"categorical\",\n",
        "          shuffle=True,\n",
        "  )\n",
        "\n",
        "  history_inception = model_inception.fit(\n",
        "        train_generator,\n",
        "        validation_data=val_generator,\n",
        "        epochs=20,\n",
        "        verbose=2,\n",
        "        callbacks = callbacks)\n",
        "  \n",
        "  pred = model_inception.evaluate(val_generator_inception)\n",
        "  pred_test =  model_inception.evaluate(test_generator_inception)\n",
        "\n"
      ]
    },
    {
      "cell_type": "markdown",
      "metadata": {
        "id": "rULV1sDi-rPE"
      },
      "source": [
        "|  Fold Number | val accuracy | test accuracy |\n",
        "| --- | --- | --- |\n",
        "| 1 | 80 | 76 |\n",
        "| 2 | 67 | 36 |\n",
        "| 3 | 87.5 | 54 |\n",
        "| 4 | 92.5 | 64.9 |\n",
        "| 5 | 100 | 89.9 |\n",
        "| 6 | 72.5 | 43 |\n",
        "| 7 | 97.5 | 43.9 |\n",
        "| 8 | 92.5 | 82.9 |\n",
        "| 9 | 55 | 36 |\n",
        "| 10 | 57.4 | 60.0 |\n",
        "\n"
      ]
    },
    {
      "cell_type": "markdown",
      "metadata": {
        "id": "CqT8S3WDZ7np"
      },
      "source": [
        "#### **EfficientNet B3**:\n",
        "EfficientNet is a convolutional neural network architecture and scaling method that uniformly scales all dimensions of depth/width/resolution using a compound coefficient."
      ]
    },
    {
      "cell_type": "markdown",
      "metadata": {
        "id": "vUyoJhVT_P3g"
      },
      "source": [
        "Here I make some changes to the layers of the network and compile the model."
      ]
    },
    {
      "cell_type": "code",
      "execution_count": null,
      "metadata": {
        "id": "IM23E3UsZ9Vp"
      },
      "outputs": [],
      "source": [
        "from tensorflow.keras.optimizers import Adam, Adamax\n",
        "img_shape=(227, 227, 3)\n",
        "model_name='EfficientNetB3'\n",
        "base_model=tf.keras.applications.efficientnet.EfficientNetB3(include_top=False, weights=\"imagenet\",input_shape=img_shape, pooling='max') \n",
        "base_model.trainable=True\n",
        "x=base_model.output\n",
        "x=BatchNormalization(axis=-1, momentum=0.99, epsilon=0.001 )(x)\n",
        "x = Dense(256, kernel_regularizer = regularizers.l2(l = 0.016),activity_regularizer=regularizers.l1(0.006),\n",
        "                bias_regularizer=regularizers.l1(0.006) ,activation='relu')(x)\n",
        "x=Dropout(rate=.4, seed=123)(x)       \n",
        "output=Dense(5, activation='softmax')(x)\n",
        "model=Model(inputs=base_model.input, outputs=output)\n",
        "lr=.001 # start with this learning rate\n",
        "model.compile(Adamax(learning_rate=lr), loss='categorical_crossentropy', metrics=['accuracy']) "
      ]
    },
    {
      "cell_type": "markdown",
      "metadata": {
        "id": "0pWiJYpK_cI0"
      },
      "source": [
        "Fit the model on train set:"
      ]
    },
    {
      "cell_type": "code",
      "execution_count": null,
      "metadata": {
        "colab": {
          "base_uri": "https://localhost:8080/"
        },
        "id": "fhGrW8HNlIgb",
        "outputId": "78645130-296f-4f1a-f5d1-15b381ef7b68"
      },
      "outputs": [],
      "source": [
        "epochs=40\n",
        "\n",
        "history=model.fit(x=train_generator,  epochs=epochs, verbose=1, validation_data=val_generator,\n",
        "               validation_steps=None,  shuffle=False,  initial_epoch=0, callbacks = callbacks)"
      ]
    },
    {
      "cell_type": "code",
      "execution_count": null,
      "metadata": {
        "colab": {
          "base_uri": "https://localhost:8080/"
        },
        "id": "fn3qDNow_aul",
        "outputId": "4ef37ff7-8760-4fd3-db81-ed317e068c8f"
      },
      "outputs": [
        {
          "name": "stdout",
          "output_type": "stream",
          "text": [
            "4/4 [==============================] - 1s 169ms/step - loss: 2.6357 - accuracy: 0.9500\n"
          ]
        }
      ],
      "source": [
        "pred = model.evaluate(test_generator)"
      ]
    },
    {
      "cell_type": "markdown",
      "metadata": {
        "id": "8dS2ftEbJyD6"
      },
      "source": [
        "| epoch |learning rate | val accuracy | test accuracy |\n",
        "| --- | --- | --- | ---|\n",
        "| 40 | 0.001 | 95.0 | 95.0 |\n",
        "| 40 | 0.0001 | 80.0 | 84.0 |"
      ]
    },
    {
      "cell_type": "code",
      "execution_count": null,
      "metadata": {
        "colab": {
          "base_uri": "https://localhost:8080/",
          "height": 299
        },
        "id": "TYExUxHqOvB8",
        "outputId": "ace34060-5b4a-4c96-af67-8c268ab85b96"
      },
      "outputs": [
        {
          "data": {
            "image/png": "[encoded data removed]",
            "text/plain": [
              "<Figure size 432x288 with 1 Axes>"
            ]
          },
          "metadata": {
            "needs_background": "light"
          },
          "output_type": "display_data"
        },
        {
          "data": {
            "text/plain": [
              "<Figure size 432x288 with 0 Axes>"
            ]
          },
          "metadata": {},
          "output_type": "display_data"
        }
      ],
      "source": [
        "acc = history.history['accuracy']\n",
        "val_acc = history.history['val_accuracy']\n",
        "\n",
        "epochs = range(len(acc))\n",
        "\n",
        "plt.plot(epochs, acc, 'r', label='Training accuracy')\n",
        "plt.plot(epochs, val_acc, 'b', label='Validation accuracy')\n",
        "plt.title('Training and validation accuracy')\n",
        "plt.legend(loc=0)\n",
        "plt.figure()\n",
        "\n",
        "plt.show()"
      ]
    },
    {
      "cell_type": "code",
      "execution_count": null,
      "metadata": {
        "colab": {
          "base_uri": "https://localhost:8080/",
          "height": 299
        },
        "id": "bBIxToXEOvis",
        "outputId": "59f41149-f768-4a86-8433-893a02e73430"
      },
      "outputs": [
        {
          "data": {
            "image/png": "[encoded data removed]",
            "text/plain": [
              "<Figure size 432x288 with 1 Axes>"
            ]
          },
          "metadata": {
            "needs_background": "light"
          },
          "output_type": "display_data"
        },
        {
          "data": {
            "text/plain": [
              "<Figure size 432x288 with 0 Axes>"
            ]
          },
          "metadata": {},
          "output_type": "display_data"
        }
      ],
      "source": [
        "loss = history.history['loss']\n",
        "val_loss = history.history['val_loss']\n",
        "\n",
        "epochs = range(len(loss))\n",
        "\n",
        "plt.plot(epochs, loss, 'r', label='Training loss')\n",
        "plt.plot(epochs, val_loss, 'b', label='Validation loss')\n",
        "plt.title('Training and validation loss')\n",
        "plt.legend(loc=0)\n",
        "plt.figure()\n",
        "\n",
        "plt.show()"
      ]
    },
    {
      "cell_type": "markdown",
      "metadata": {
        "id": "ktir4vgrLjLD"
      },
      "source": [
        "**Confusion matrix:**"
      ]
    },
    {
      "cell_type": "code",
      "execution_count": null,
      "metadata": {
        "colab": {
          "base_uri": "https://localhost:8080/",
          "height": 506
        },
        "id": "5ASy7HjjLlqR",
        "outputId": "c979c9b9-6328-41ce-d3cd-9b16c9e734c7"
      },
      "outputs": [
        {
          "name": "stdout",
          "output_type": "stream",
          "text": [
            "Accuracy score: 0.95\n",
            "              precision    recall  f1-score   support\n",
            "\n",
            "          Ak       0.96      0.89      0.93        28\n",
            "   Ala_Idris       1.00      0.86      0.92        14\n",
            "     Buzgulu       0.91      1.00      0.95        10\n",
            "      Dimnit       0.92      1.00      0.96        24\n",
            "       Nazli       0.96      1.00      0.98        24\n",
            "\n",
            "    accuracy                           0.95       100\n",
            "   macro avg       0.95      0.95      0.95       100\n",
            "weighted avg       0.95      0.95      0.95       100\n",
            "\n"
          ]
        },
        {
          "data": {
            "image/png": "[encoded data removed]",
            "text/plain": [
              "<Figure size 432x288 with 2 Axes>"
            ]
          },
          "metadata": {
            "needs_background": "light"
          },
          "output_type": "display_data"
        }
      ],
      "source": [
        "y_predict = model.predict(test_generator)\n",
        "confusion(model, np.array(test_ds['classes']), y_predict)"
      ]
    },
    {
      "cell_type": "markdown",
      "metadata": {
        "id": "QW6zq7oXLpKr"
      },
      "source": [
        "**10 fold cross validation:**\\\n",
        "It took me so much to train the model once, so training it 10 times was impossible so that I changed epoch number to 25."
      ]
    },
    {
      "cell_type": "code",
      "execution_count": null,
      "metadata": {
        "colab": {
          "base_uri": "https://localhost:8080/"
        },
        "id": "NH0g2_lHLr05",
        "outputId": "3fc367b9-eae5-4328-fc75-c40b718bd3ef"
      },
      "outputs": [],
      "source": [
        "kf = KFold(n_splits = 10)\n",
        "kfold = StratifiedKFold(n_splits=10,shuffle=True,random_state=42)\n",
        "\n",
        "X_train, X_test, y_train, y_test = train_test_split(main_df[['path', 'classes']], main_df[['classes']], test_size=0.2, random_state=42)\n",
        "\n",
        "\n",
        "Y = y_train\n",
        "\n",
        "test_generator_B3 = test_datagen.flow_from_dataframe(\n",
        "        test_ds,  # This is the source directory for training images\n",
        "        x_col='path',\n",
        "        y_col='classes',\n",
        "        target_size=(227, 227), \n",
        "        batch_size=32,\n",
        "        class_mode=\"categorical\",\n",
        "        shuffle=False,\n",
        ")\n",
        "\n",
        "\n",
        "for train_index, val_index in kf.split(np.zeros(400),Y):\n",
        "  training_data = X_train.iloc[train_index]\n",
        "  validation_data = X_train.iloc[val_index]\n",
        "\n",
        "  train_generator_B3= datagen.flow_from_dataframe(\n",
        "          training_data,  # This is the source directory for training images\n",
        "          x_col='path',\n",
        "          y_col='classes',\n",
        "          target_size=(227, 227), \n",
        "          batch_size=32,\n",
        "          class_mode=\"categorical\",\n",
        "          shuffle=True,\n",
        "  )\n",
        "\n",
        "  val_generator_B3 = datagen.flow_from_dataframe(\n",
        "          validation_data,  # This is the source directory for training images\n",
        "          x_col='path',\n",
        "          y_col='classes',\n",
        "          target_size=(227, 227), \n",
        "          batch_size=32,\n",
        "          class_mode=\"categorical\",\n",
        "          shuffle=True,\n",
        "  )\n",
        "\n",
        "  history_inception = model.fit(\n",
        "        train_generator,\n",
        "        validation_data=val_generator,\n",
        "        epochs=20,\n",
        "        verbose=2,\n",
        "        callbacks = callbacks)\n",
        "  \n",
        "  pred = model.evaluate(val_generator_B3)\n",
        "  pred_test =  model.evaluate(test_generator_B3)\n",
        "\n"
      ]
    },
    {
      "cell_type": "markdown",
      "metadata": {
        "id": "Smz7hb1YAXPt"
      },
      "source": [
        "|  Fold Number | val accuracy | test accuracy |\n",
        "| --- | --- | --- |\n",
        "| 1 | 94.9 | 93 |\n",
        "| 2 | 99.9 | 94.9 |\n",
        "| 3 | 100 | 91.0 |\n",
        "| 4 | 100 | 93.9 |\n",
        "| 5 | 100 | 92.0 |\n",
        "| 6 | 97.5 | 93.9 |\n",
        "| 7 | 97.5 | 93.0 |\n",
        "| 8 | 100 | 97 |\n",
        "| 9 | 100 | 92 |\n",
        "| 10 | 100 | 92  |\n",
        "\n"
      ]
    },
    {
      "cell_type": "markdown",
      "metadata": {
        "id": "s19Zml_XJHte"
      },
      "source": [
        "#### **Autoencoder:**\n",
        "Autoencoder is an unsupervised artificial neural network that learns how to efficiently compress and encode data then learns how to reconstruct the data back from the reduced encoded representation to a representation that is as close to the original input as possible.\\\n",
        "Autoencoders consists of 4 main parts:\n",
        "\n",
        "\n",
        "1.   Encoder\n",
        "2.   Bottleneck\n",
        "3.   Decoder\n",
        "4.   Reconstruction Loss\n",
        "\n",
        "Autoencoders are used to help reduce the noise in data. Through the process of compressing input data, encoding it, and then reconstructing it as an output, autoencoders allow you to reduce dimensionality and focus only on areas of real value.\\\n",
        "I intended to use an autoencoder inorder to reduce the noise in my data."
      ]
    },
    {
      "cell_type": "markdown",
      "metadata": {
        "id": "KQnQdyJLKRCh"
      },
      "source": [
        "Editting the size of the input of the autoencoder:"
      ]
    },
    {
      "cell_type": "code",
      "execution_count": null,
      "metadata": {
        "colab": {
          "base_uri": "https://localhost:8080/"
        },
        "id": "hSUKUtPfMSiH",
        "outputId": "b063868f-337d-42ef-e287-22c9b71d7095"
      },
      "outputs": [
        {
          "name": "stdout",
          "output_type": "stream",
          "text": [
            "Found 320 validated image filenames.\n"
          ]
        }
      ],
      "source": [
        "encoder_datagen = ImageDataGenerator(\n",
        "    preprocessing_function=preprocess_input\n",
        ") \n",
        "\n",
        "encoder_train_generator= test_datagen.flow_from_dataframe(\n",
        "        train_ds,  # This is the source directory for training images\n",
        "        x_col='path',\n",
        "        y_col='path',\n",
        "        target_size=(200, 200), \n",
        "        batch_size=32,\n",
        "        class_mode=\"input\",\n",
        "        shuffle=True,\n",
        ")\n"
      ]
    },
    {
      "cell_type": "markdown",
      "metadata": {
        "id": "jRzS-lAGK3t1"
      },
      "source": [
        "Designing the encoder part:"
      ]
    },
    {
      "cell_type": "code",
      "execution_count": null,
      "metadata": {
        "id": "e4CTC5LxEOVA"
      },
      "outputs": [],
      "source": [
        "input_shape = (200, 200, 3)\n",
        "n_input = 200 * 200 * 3\n",
        "\n",
        "encoder = Sequential()\n",
        "encoder.add(layers.Rescaling(1./255, input_shape = input_shape))\n",
        "encoder.add(layers.Conv2D(16, 3, padding='same', strides = 2, activation='relu'))\n",
        "encoder.add(layers.MaxPooling2D())\n",
        "encoder.add(layers.Conv2D(16, 3, padding='valid', strides = 2, activation='relu'))\n",
        "encoder.add(layers.MaxPooling2D())\n",
        "encoder.add(layers.Flatten())\n",
        "encoder.add(layers.Dense(100, activation='relu'))\n",
        "encoder.add(Dense(30, activation = \"relu\"))\n",
        "\n",
        "encoder.compile(optimizer='adam', loss=\"mse\", metrics=['accuracy'])"
      ]
    },
    {
      "cell_type": "markdown",
      "metadata": {
        "id": "bma2c9q9NSG1"
      },
      "source": [
        "Designing decoder part:"
      ]
    },
    {
      "cell_type": "code",
      "execution_count": null,
      "metadata": {
        "id": "g1NIM_d9EQHd"
      },
      "outputs": [],
      "source": [
        "decoder = Sequential()\n",
        "decoder.add(layers.Input(shape=(30)))\n",
        "decoder.add(Dense(40000, activation=\"relu\"))\n",
        "decoder.add(Reshape((50, 50, 16)))\n",
        "decoder.add(layers.Conv2D(64, 3, padding='same', activation='relu'))\n",
        "decoder.add(UpSampling2D((2, 2)))\n",
        "decoder.add(layers.Conv2D(16, 3, padding='same', activation='relu'))\n",
        "decoder.add(UpSampling2D((2, 2)))\n",
        "\n",
        "decoder.add(Conv2D(3, (3, 3), padding='same'))\n",
        "\n",
        "decoder.add(layers.Rescaling(255))\n",
        "decoder.add(Reshape(input_shape))\n",
        "\n",
        "decoder.compile(optimizer='adam', loss=\"mse\", metrics=['accuracy'])"
      ]
    },
    {
      "cell_type": "markdown",
      "metadata": {
        "id": "aWb76eHiNdPD"
      },
      "source": [
        "Adding them together and compiling the autoencoder:"
      ]
    },
    {
      "cell_type": "code",
      "execution_count": null,
      "metadata": {
        "colab": {
          "base_uri": "https://localhost:8080/"
        },
        "id": "AuEh-uD3EQw0",
        "outputId": "638d83a5-8e01-4c48-c089-c60592f2b1ae"
      },
      "outputs": [
        {
          "name": "stdout",
          "output_type": "stream",
          "text": [
            "Model: \"model_3\"\n",
            "_________________________________________________________________\n",
            " Layer (type)                Output Shape              Param #   \n",
            "=================================================================\n",
            " input_6 (InputLayer)        [(None, 200, 200, 3)]     0         \n",
            "                                                                 \n",
            " sequential_2 (Sequential)   (None, 30)                236298    \n",
            "                                                                 \n",
            " sequential_3 (Sequential)   (None, 200, 200, 3)       1258947   \n",
            "                                                                 \n",
            "=================================================================\n",
            "Total params: 1,495,245\n",
            "Trainable params: 1,495,245\n",
            "Non-trainable params: 0\n",
            "_________________________________________________________________\n"
          ]
        }
      ],
      "source": [
        "autoencoder_input = layers.Input(shape =input_shape )\n",
        "\n",
        "encoded_to_decoder = encoder(autoencoder_input)\n",
        "decoded_to_autoencoder = decoder(encoded_to_decoder)\n",
        "autoencoder = Model (autoencoder_input, decoded_to_autoencoder)\n",
        "\n",
        "autoencoder.compile(optimizer = 'adam', loss = 'mse', metrics = ['accuracy'])\n",
        "autoencoder.summary()"
      ]
    },
    {
      "cell_type": "markdown",
      "metadata": {
        "id": "qBLys1SWNjWv"
      },
      "source": [
        "Getting the data ready for the autoencoder:"
      ]
    },
    {
      "cell_type": "code",
      "execution_count": null,
      "metadata": {
        "id": "fdNVUHcfEt2l"
      },
      "outputs": [],
      "source": [
        "encoder_inp = []\n",
        "for i in range(len(encoder_train_generator)):\n",
        "  encoder_inp.append(encoder_train_generator[i][0][0])\n",
        "\n",
        "encoder_inp = np.array(encoder_inp)\n"
      ]
    },
    {
      "cell_type": "markdown",
      "metadata": {
        "id": "TJOzPKY7NnEw"
      },
      "source": [
        "Fitting the autoencoder:"
      ]
    },
    {
      "cell_type": "code",
      "execution_count": null,
      "metadata": {
        "colab": {
          "base_uri": "https://localhost:8080/"
        },
        "id": "c7rAgNLnGYPG",
        "outputId": "c0b08480-fe02-4201-e5cc-4cdff4f6d3b3"
      },
      "outputs": [],
      "source": [
        "autoencoder.fit(x= encoder_inp, y=encoder_inp, epochs = 50, verbose=1, shuffle = True)"
      ]
    },
    {
      "cell_type": "code",
      "execution_count": null,
      "metadata": {
        "id": "bDex_W4eGZ10"
      },
      "outputs": [],
      "source": [
        "predict = autoencoder.predict(encoder_inp)"
      ]
    },
    {
      "cell_type": "code",
      "execution_count": null,
      "metadata": {
        "id": "fTdp0ij6SCt6"
      },
      "outputs": [],
      "source": [
        "def encoder_ans(pr):\n",
        "    n = 10\n",
        "    indices = np.random.randint(len(pr), size=n)\n",
        "    images1 = pr[indices, :]\n",
        "\n",
        "    plt.figure(figsize=(10, 7))\n",
        "    for i, image1 in enumerate(images1):\n",
        "        ax = plt.subplot(2, n, i + 1)\n",
        "        plt.imshow(image1.reshape(200, 200,3))\n",
        "        ax.get_xaxis().set_visible(False)\n",
        "        ax.get_yaxis().set_visible(False)\n",
        "\n",
        "    plt.show()\n",
        "  "
      ]
    },
    {
      "cell_type": "code",
      "execution_count": null,
      "metadata": {
        "colab": {
          "base_uri": "https://localhost:8080/",
          "height": 264
        },
        "id": "Mdv77ERwSwQO",
        "outputId": "92c8f084-709e-4457-f52f-cfb197fdffeb"
      },
      "outputs": [
        {
          "name": "stderr",
          "output_type": "stream",
          "text": [
            "WARNING:matplotlib.image:Clipping input data to the valid range for imshow with RGB data ([0..1] for floats or [0..255] for integers).\n",
            "WARNING:matplotlib.image:Clipping input data to the valid range for imshow with RGB data ([0..1] for floats or [0..255] for integers).\n",
            "WARNING:matplotlib.image:Clipping input data to the valid range for imshow with RGB data ([0..1] for floats or [0..255] for integers).\n",
            "WARNING:matplotlib.image:Clipping input data to the valid range for imshow with RGB data ([0..1] for floats or [0..255] for integers).\n",
            "WARNING:matplotlib.image:Clipping input data to the valid range for imshow with RGB data ([0..1] for floats or [0..255] for integers).\n",
            "WARNING:matplotlib.image:Clipping input data to the valid range for imshow with RGB data ([0..1] for floats or [0..255] for integers).\n",
            "WARNING:matplotlib.image:Clipping input data to the valid range for imshow with RGB data ([0..1] for floats or [0..255] for integers).\n",
            "WARNING:matplotlib.image:Clipping input data to the valid range for imshow with RGB data ([0..1] for floats or [0..255] for integers).\n",
            "WARNING:matplotlib.image:Clipping input data to the valid range for imshow with RGB data ([0..1] for floats or [0..255] for integers).\n",
            "WARNING:matplotlib.image:Clipping input data to the valid range for imshow with RGB data ([0..1] for floats or [0..255] for integers).\n"
          ]
        },
        {
          "data": {
            "image/png": "[encoded data removed]",
            "text/plain": [
              "<Figure size 720x504 with 10 Axes>"
            ]
          },
          "metadata": {
            "needs_background": "light"
          },
          "output_type": "display_data"
        }
      ],
      "source": [
        "encoder_ans(predict)"
      ]
    },
    {
      "cell_type": "markdown",
      "metadata": {
        "id": "P0xqNojrWPEe"
      },
      "source": [
        "As you can see, the images made from the autoencoder are not as good as the inputs, so the models wouldn't be able to recognize them easier. The autoencoder can not help us maximize the accuracy."
      ]
    },
    {
      "cell_type": "markdown",
      "metadata": {
        "id": "bd8mpqNNWvbu"
      },
      "source": [
        "### **Conclusion:**"
      ]
    },
    {
      "cell_type": "markdown",
      "metadata": {
        "id": "O2ABOHrvW0Dl"
      },
      "source": [
        "The best accuracy I got for this project was 95. I got this accuracy using a pre-trained model(EfficientNet B3). I ran the model for 40 epochs and after that I didn't notice any improvements and that's how I understood this is the best accuracy I can get using this model."
      ]
    }
  ],
  "metadata": {
    "accelerator": "GPU",
    "colab": {
      "collapsed_sections": [
        "VqwBdUvkqdYf",
        "gkJu87yFsh0p",
        "nyLBAHxgsWDY",
        "ZWJU_8RcFfL7"
      ],
      "name": "babaahmadi-narges-610398102-DMProj.ipynb",
      "provenance": [],
      "toc_visible": true
    },
    "gpuClass": "standard",
    "kernelspec": {
      "display_name": "Python 3",
      "name": "python3"
    },
    "language_info": {
      "name": "python"
    }
  },
  "nbformat": 4,
  "nbformat_minor": 0
}
